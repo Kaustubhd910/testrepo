{
 "cells": [
  {
   "cell_type": "markdown",
   "id": "64977fac-9208-4a6b-9ce0-2667729e8af8",
   "metadata": {},
   "source": [
    "Exercise 2: Create markdown cell with title of the notebook\n",
    "Create a markdown cell with the title Data Science Tools and Ecosystem using H1 style heading."
   ]
  },
  {
   "cell_type": "markdown",
   "id": "1ba69d23-aa7e-401c-81f7-6b90866073de",
   "metadata": {
    "tags": []
   },
   "source": [
    "# Data Science Tools and Ecosystem "
   ]
  },
  {
   "cell_type": "code",
   "execution_count": null,
   "id": "d8c5e213-72a1-4cc4-aaf6-66393094ea24",
   "metadata": {},
   "outputs": [],
   "source": []
  },
  {
   "cell_type": "markdown",
   "id": "3adb3571-f0fd-4604-9050-1cd857e254f9",
   "metadata": {},
   "source": [
    "Exercise 3 - Create a markdown cell for an introduction\n",
    "Write an introductory sentence about the notebook such as the follows:\n",
    "In this notebook, Data Science Tools and Ecosystem are summarized."
   ]
  },
  {
   "cell_type": "markdown",
   "id": "dbdea74b-4d19-4355-9372-4a82d177684c",
   "metadata": {},
   "source": [
    "In this notebook, Data Science Tools and Ecosystem are summarized."
   ]
  },
  {
   "cell_type": "code",
   "execution_count": null,
   "id": "236eb9a8-c47a-4ce9-bd28-5870d5d20fc6",
   "metadata": {},
   "outputs": [],
   "source": []
  },
  {
   "cell_type": "markdown",
   "id": "91707073-bd60-485b-9178-c1d9be6c62e1",
   "metadata": {},
   "source": [
    "Exercise 10 - Insert a markdown cell to list Objectives\n",
    "Below the introduction cell created in Exercise 3, insert a new markdown cell to list the objectives that this notebook covered (i.e. some of the key takeaways from the course). In this new cell start with an introductory line titled: Objectives: in bold font. Then using an unordered list (bullets) indicate 3 to 5 items covered in this notebook, such as List popular languages for Data Science."
   ]
  },
  {
   "cell_type": "markdown",
   "id": "089a04f2-26fe-4178-a55f-cf72f67b0ebe",
   "metadata": {},
   "source": [
    "**Objectives: \n",
    " * List popular languages for Data Science\n",
    "     - Python\n",
    "     - R\n",
    "     - Java\n",
    "     - SQL"
   ]
  },
  {
   "cell_type": "code",
   "execution_count": null,
   "id": "4c13dacb-5b66-4ba5-8430-649b88ebd473",
   "metadata": {},
   "outputs": [],
   "source": []
  },
  {
   "cell_type": "code",
   "execution_count": null,
   "id": "b87a8d40-672f-4530-b814-233ed7448076",
   "metadata": {},
   "outputs": [],
   "source": []
  },
  {
   "cell_type": "markdown",
   "id": "d62f42be-8877-48b3-b294-8da7241e6c83",
   "metadata": {
    "tags": []
   },
   "source": [
    "Exercise 4 - Create a markdown cell to list data science languages\n",
    "Start the cell with an overview line such as:\n",
    "Some of the popular languages that Data Scientists use are:"
   ]
  },
  {
   "cell_type": "markdown",
   "id": "65011327-62e5-41e8-97c9-d5cf9faa1e4f",
   "metadata": {},
   "source": [
    "Some of the popular languages that Data Scientists use are:  \n",
    "1.Python  \n",
    "2.R  \n",
    "3.Scala  \n",
    "4.SQL  \n",
    "5.Java "
   ]
  },
  {
   "cell_type": "code",
   "execution_count": null,
   "id": "1dad5bf1-32a5-4db5-9681-1616158bca9f",
   "metadata": {},
   "outputs": [],
   "source": []
  },
  {
   "cell_type": "markdown",
   "id": "7e3771ed-6809-447d-addb-f0501f17c32d",
   "metadata": {},
   "source": [
    "Exercise 5 - Create a markdown cell to list data science libraries\n",
    "Add an overview line to the cell like:\n",
    "Some of the commonly used libraries used by Data Scientists include:"
   ]
  },
  {
   "cell_type": "markdown",
   "id": "237b2387-a0c6-44f7-bf6b-b296b4ffba7f",
   "metadata": {},
   "source": [
    "Some of the commonly used libraries used by Data Scientists include:  \n",
    "1.Pandas  \n",
    "2.Numpy  \n",
    "3.matplotlib    \n",
    "4.seaborn    "
   ]
  },
  {
   "cell_type": "code",
   "execution_count": null,
   "id": "a12b095b-d134-460d-97e8-415eea81b5ba",
   "metadata": {},
   "outputs": [],
   "source": []
  },
  {
   "cell_type": "markdown",
   "id": "8e14ed30-d633-432a-abd6-2fc1980683b6",
   "metadata": {},
   "source": [
    "Exercise 6 - Create a markdown cell with a table of Data Science tools\n",
    "Create a single column table in this cell with the first row containing the header Data Science Tools. The subsequent three rows in the table should indicate three development environment open source tools used in data science."
   ]
  },
  {
   "cell_type": "markdown",
   "id": "377e9268-e3e1-4266-a0d6-0e5c74d1aa10",
   "metadata": {},
   "source": [
    "| Data Science Tools |\n",
    "|--------------------|\n",
    "|Jupyter notebook |\n",
    "| RStudio |\n",
    "| Apache Zeppelin |"
   ]
  },
  {
   "cell_type": "code",
   "execution_count": null,
   "id": "2d298385-e5f2-4367-b576-dc1fb262a9c3",
   "metadata": {},
   "outputs": [],
   "source": []
  },
  {
   "cell_type": "markdown",
   "id": "7577fce4-5390-41eb-ba67-f37bc9e74873",
   "metadata": {
    "tags": []
   },
   "source": [
    "\n",
    "Exercise 7 - Create a markdown cell introducing arithmetic expression examples\n",
    "Add a line in this cell with H3 style heading with text like:\n",
    "Below are a few examples of evaluating arithmetic expressions in Python."
   ]
  },
  {
   "cell_type": "markdown",
   "id": "8bbbcb10-6989-49ea-b355-4e37c8ce06da",
   "metadata": {},
   "source": [
    "### Below are a few examples of evaluating arithmetic expressions in Python\n",
    "a=6  \n",
    "b=9    \n",
    "print(c=a+b)"
   ]
  },
  {
   "cell_type": "code",
   "execution_count": null,
   "id": "f404a469-1a6f-43ab-a784-d35d0cfc3cee",
   "metadata": {},
   "outputs": [],
   "source": []
  },
  {
   "cell_type": "markdown",
   "id": "6e8fd4dc-1558-49c0-a7df-71dade891511",
   "metadata": {},
   "source": [
    "Exercise 8 - Create a code cell to multiply and add numbers\n",
    "In this code cell evaluate the expression (3*4)+5."
   ]
  },
  {
   "cell_type": "code",
   "execution_count": 1,
   "id": "6896cb8c-5c8b-4d03-ab0d-951fa3a857d4",
   "metadata": {
    "tags": []
   },
   "outputs": [
    {
     "data": {
      "text/plain": [
       "17"
      ]
     },
     "execution_count": 1,
     "metadata": {},
     "output_type": "execute_result"
    }
   ],
   "source": [
    "# This a simple arithmetic expression to mutiply then add integers\n",
    "(3*4)+5"
   ]
  },
  {
   "cell_type": "code",
   "execution_count": null,
   "id": "7031f5fc-c7a1-4c19-86b4-9fc6f1ae60a7",
   "metadata": {},
   "outputs": [],
   "source": []
  },
  {
   "cell_type": "markdown",
   "id": "7ec5545e-92d4-4da0-8613-cd4fa47d58c7",
   "metadata": {},
   "source": [
    "Exercise 9 - Create a code cell to convert minutes to hours\n",
    "In this code cell write an expression that converts 200 minutes into hours."
   ]
  },
  {
   "cell_type": "code",
   "execution_count": 2,
   "id": "0214abc9-e880-432c-bc5c-282fe2ddb5b5",
   "metadata": {
    "tags": []
   },
   "outputs": [
    {
     "data": {
      "text/plain": [
       "3.3333333333333335"
      ]
     },
     "execution_count": 2,
     "metadata": {},
     "output_type": "execute_result"
    }
   ],
   "source": [
    "# This will convert 200 minutes to hours by diving by 60.\n",
    "200/60"
   ]
  },
  {
   "cell_type": "code",
   "execution_count": null,
   "id": "771ec56c-27fd-4af5-ae99-ee023a4b307e",
   "metadata": {},
   "outputs": [],
   "source": []
  },
  {
   "cell_type": "markdown",
   "id": "eb37704e-98f4-4709-890d-740de58f168a",
   "metadata": {},
   "source": [
    "Exercise 11 - Create a markdown cell to indicate the Author's name\n",
    "In this markdown cell markdown cell include the following text Author in H2 style heading. Include your name as regular text below the word Author."
   ]
  },
  {
   "cell_type": "markdown",
   "id": "c1f410d3-4aed-49d9-a408-d3f4cbc63671",
   "metadata": {},
   "source": [
    "## Author  \n",
    "  Dhotre Kaustubh Rajendra"
   ]
  },
  {
   "cell_type": "markdown",
   "id": "b27ced78",
   "metadata": {},
   "source": []
  }
 ],
 "metadata": {
  "kernelspec": {
   "display_name": "Python",
   "language": "python",
   "name": "conda-env-python-py"
  },
  "language_info": {
   "codemirror_mode": {
    "name": "ipython",
    "version": 3
   },
   "file_extension": ".py",
   "mimetype": "text/x-python",
   "name": "python",
   "nbconvert_exporter": "python",
   "pygments_lexer": "ipython3",
   "version": "3.7.12"
  }
 },
 "nbformat": 4,
 "nbformat_minor": 5
}
